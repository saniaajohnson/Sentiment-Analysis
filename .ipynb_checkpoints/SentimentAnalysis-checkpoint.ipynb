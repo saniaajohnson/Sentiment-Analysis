{
 "cells": [
  {
   "cell_type": "markdown",
   "id": "45df6b1e-8ec6-4514-88ca-88c335402bcf",
   "metadata": {},
   "source": [
    "# Project 1: Sentiment Analysis "
   ]
  },
  {
   "cell_type": "markdown",
   "id": "294489e3-42ca-4265-9497-1a89fcbf3865",
   "metadata": {},
   "source": [
    "This notebook details a machine learning model that analyzes twitter messages and predicts its sentiment."
   ]
  },
  {
   "cell_type": "code",
   "execution_count": 1,
   "id": "9d644040-bfd0-498f-9f20-26e223c16776",
   "metadata": {
    "collapsed": true,
    "jupyter": {
     "outputs_hidden": true
    }
   },
   "outputs": [
    {
     "name": "stderr",
     "output_type": "stream",
     "text": [
      "2025-09-13 15:15:09.647085: E external/local_xla/xla/stream_executor/cuda/cuda_fft.cc:467] Unable to register cuFFT factory: Attempting to register factory for plugin cuFFT when one has already been registered\n",
      "WARNING: All log messages before absl::InitializeLog() is called are written to STDERR\n",
      "E0000 00:00:1757790909.865877    2433 cuda_dnn.cc:8579] Unable to register cuDNN factory: Attempting to register factory for plugin cuDNN when one has already been registered\n",
      "E0000 00:00:1757790909.932579    2433 cuda_blas.cc:1407] Unable to register cuBLAS factory: Attempting to register factory for plugin cuBLAS when one has already been registered\n",
      "W0000 00:00:1757790910.427681    2433 computation_placer.cc:177] computation placer already registered. Please check linkage and avoid linking the same target more than once.\n",
      "W0000 00:00:1757790910.427797    2433 computation_placer.cc:177] computation placer already registered. Please check linkage and avoid linking the same target more than once.\n",
      "W0000 00:00:1757790910.427800    2433 computation_placer.cc:177] computation placer already registered. Please check linkage and avoid linking the same target more than once.\n",
      "W0000 00:00:1757790910.427802    2433 computation_placer.cc:177] computation placer already registered. Please check linkage and avoid linking the same target more than once.\n",
      "/mnt/c/Users/Saniaa/PassionProject/nlp-env/lib/python3.12/site-packages/tqdm/auto.py:21: TqdmWarning: IProgress not found. Please update jupyter and ipywidgets. See https://ipywidgets.readthedocs.io/en/stable/user_install.html\n",
      "  from .autonotebook import tqdm as notebook_tqdm\n"
     ]
    }
   ],
   "source": [
    "import contractions\n",
    "import matplotlib.pyplot as plt\n",
    "import nltk\n",
    "import numpy as np\n",
    "import pandas as pd\n",
    "import os\n",
    "os.environ['TF_CPP_MIN_LOG_LEVEL'] = '2'\n",
    "import tensorflow as tf\n",
    "\n",
    "from huggingface_hub import hf_hub_download\n",
    "from gensim.models import KeyedVectors\n",
    "from nltk.tokenize import TweetTokenizer\n",
    "from tensorflow import keras\n",
    "from tensorflow.keras import layers, regularizers, callbacks\n",
    "from tensorflow.keras import callbacks\n",
    "from tensorflow.keras.callbacks import ReduceLROnPlateau\n",
    "from tensorflow.keras.layers import Embedding, Conv1D, GlobalMaxPooling1D, Dropout, Dense\n",
    "from tensorflow.keras.models import Sequential\n",
    "from tensorflow.keras.losses import BinaryCrossentropy\n",
    "from tensorflow.keras.optimizers import Adam\n",
    "from tensorflow.keras.preprocessing.sequence import pad_sequences\n",
    "from tqdm import tqdm"
   ]
  },
  {
   "cell_type": "code",
   "execution_count": 2,
   "id": "58189475-151a-4f0b-a32a-e7505e9bb240",
   "metadata": {},
   "outputs": [
    {
     "data": {
      "text/html": [
       "<div>\n",
       "<style scoped>\n",
       "    .dataframe tbody tr th:only-of-type {\n",
       "        vertical-align: middle;\n",
       "    }\n",
       "\n",
       "    .dataframe tbody tr th {\n",
       "        vertical-align: top;\n",
       "    }\n",
       "\n",
       "    .dataframe thead th {\n",
       "        text-align: right;\n",
       "    }\n",
       "</style>\n",
       "<table border=\"1\" class=\"dataframe\">\n",
       "  <thead>\n",
       "    <tr style=\"text-align: right;\">\n",
       "      <th></th>\n",
       "      <th>Unnamed: 0</th>\n",
       "      <th>Comment</th>\n",
       "      <th>Sentiment</th>\n",
       "    </tr>\n",
       "  </thead>\n",
       "  <tbody>\n",
       "    <tr>\n",
       "      <th>0</th>\n",
       "      <td>0</td>\n",
       "      <td>lets forget apple pay required brand new iphon...</td>\n",
       "      <td>1</td>\n",
       "    </tr>\n",
       "    <tr>\n",
       "      <th>1</th>\n",
       "      <td>1</td>\n",
       "      <td>nz retailers don’t even contactless credit car...</td>\n",
       "      <td>0</td>\n",
       "    </tr>\n",
       "    <tr>\n",
       "      <th>2</th>\n",
       "      <td>2</td>\n",
       "      <td>forever acknowledge channel help lessons ideas...</td>\n",
       "      <td>2</td>\n",
       "    </tr>\n",
       "    <tr>\n",
       "      <th>3</th>\n",
       "      <td>3</td>\n",
       "      <td>whenever go place doesn’t take apple pay doesn...</td>\n",
       "      <td>0</td>\n",
       "    </tr>\n",
       "    <tr>\n",
       "      <th>4</th>\n",
       "      <td>4</td>\n",
       "      <td>apple pay convenient secure easy use used kore...</td>\n",
       "      <td>2</td>\n",
       "    </tr>\n",
       "  </tbody>\n",
       "</table>\n",
       "</div>"
      ],
      "text/plain": [
       "   Unnamed: 0                                            Comment  Sentiment\n",
       "0           0  lets forget apple pay required brand new iphon...          1\n",
       "1           1  nz retailers don’t even contactless credit car...          0\n",
       "2           2  forever acknowledge channel help lessons ideas...          2\n",
       "3           3  whenever go place doesn’t take apple pay doesn...          0\n",
       "4           4  apple pay convenient secure easy use used kore...          2"
      ]
     },
     "execution_count": 2,
     "metadata": {},
     "output_type": "execute_result"
    }
   ],
   "source": [
    "df = pd.read_csv('Data/sentiment_data.csv')\n",
    "df.head()"
   ]
  },
  {
   "cell_type": "markdown",
   "id": "81b992a6-7e79-47ce-a888-89140646422f",
   "metadata": {},
   "source": [
    "## Downloading Glove Embeddings"
   ]
  },
  {
   "cell_type": "markdown",
   "id": "5804f0ac-d526-4546-b161-483b704e8392",
   "metadata": {},
   "source": [
    "GloVe dictionaries are collections of pretrained word embeddings. By mapping words to dense vector representations, they provide the model with the semantic relationships it needs to make well-rounded predictions. Without contextual embeddings, a model might misclassify the phrase ‘not bad’ as negative. This happens when sentiment is assessed word by word, ignoring how words influence each other’s meaning."
   ]
  },
  {
   "cell_type": "code",
   "execution_count": 3,
   "id": "46e64741-50a7-4919-a18b-c5b179b6b4c1",
   "metadata": {},
   "outputs": [
    {
     "name": "stdout",
     "output_type": "stream",
     "text": [
      "Downloaded model: /home/saniaa/.cache/huggingface/hub/models--fse--glove-twitter-200/snapshots/72f480c107aaa58b9474ddaf45d13db2e34fa166/glove-twitter-200.model\n",
      "Downloaded vectors: /home/saniaa/.cache/huggingface/hub/models--fse--glove-twitter-200/snapshots/72f480c107aaa58b9474ddaf45d13db2e34fa166/glove-twitter-200.model.vectors.npy\n"
     ]
    }
   ],
   "source": [
    "repo_id = \"fse/glove-twitter-200\"   # repo name on Hugging Face\n",
    "file1 = \"glove-twitter-200.model\"\n",
    "file2 = \"glove-twitter-200.model.vectors.npy\"\n",
    "    \n",
    "# Download both\n",
    "model_file = hf_hub_download(repo_id=repo_id, filename=file1)\n",
    "vectors_file = hf_hub_download(repo_id=repo_id, filename=file2)\n",
    "    \n",
    "print(\"Downloaded model:\", model_file)\n",
    "print(\"Downloaded vectors:\", vectors_file)\n",
    "\n",
    "glove_model = KeyedVectors.load(model_file)"
   ]
  },
  {
   "cell_type": "markdown",
   "id": "1488b3ef-ee39-4b25-90ca-51b87a60625f",
   "metadata": {},
   "source": [
    "## Data Cleaning:"
   ]
  },
  {
   "cell_type": "code",
   "execution_count": 4,
   "id": "a0889d5b-f91e-4ce9-8dd7-477fd19b124d",
   "metadata": {},
   "outputs": [
    {
     "name": "stdout",
     "output_type": "stream",
     "text": [
      "241145\n",
      "240928\n"
     ]
    }
   ],
   "source": [
    "#checking how much data is left after dropping null values\n",
    "\n",
    "df = df.drop(columns = 'Unnamed: 0')\n",
    "print(len(df))\n",
    "\n",
    "df = df.dropna()\n",
    "print(len(df))"
   ]
  },
  {
   "cell_type": "markdown",
   "id": "068517c8-68d3-48b5-9912-40ccbf256ebd",
   "metadata": {},
   "source": [
    "## Preprocessing:"
   ]
  },
  {
   "cell_type": "markdown",
   "id": "3160c37d-5791-4999-b67e-334f29efa2ce",
   "metadata": {},
   "source": [
    "### Tokenizing:"
   ]
  },
  {
   "cell_type": "markdown",
   "id": "ec84cc01-fea2-4b3b-85ec-049d007d13bf",
   "metadata": {},
   "source": [
    "The model can't classify the text directly because they are still in sentence form. Since every word is mapped to a vector, I have to tokenize each message into it's individual words. The gloVe-model wasn't trained on my data, so some of the words in my dataset may not appear in its vocabulary. However, as long as there aren't that many, dropping them won't effect the sentiment of the text."
   ]
  },
  {
   "cell_type": "code",
   "execution_count": 5,
   "id": "a7996b91-5f62-4c67-9ac9-180abe8002c1",
   "metadata": {},
   "outputs": [
    {
     "name": "stderr",
     "output_type": "stream",
     "text": [
      "100%|████████████████████████████| 240928/240928 [00:12<00:00, 19949.05it/s]\n"
     ]
    },
    {
     "data": {
      "text/html": [
       "<div>\n",
       "<style scoped>\n",
       "    .dataframe tbody tr th:only-of-type {\n",
       "        vertical-align: middle;\n",
       "    }\n",
       "\n",
       "    .dataframe tbody tr th {\n",
       "        vertical-align: top;\n",
       "    }\n",
       "\n",
       "    .dataframe thead th {\n",
       "        text-align: right;\n",
       "    }\n",
       "</style>\n",
       "<table border=\"1\" class=\"dataframe\">\n",
       "  <thead>\n",
       "    <tr style=\"text-align: right;\">\n",
       "      <th></th>\n",
       "      <th>Comment</th>\n",
       "      <th>Sentiment</th>\n",
       "      <th>Tokens</th>\n",
       "    </tr>\n",
       "  </thead>\n",
       "  <tbody>\n",
       "    <tr>\n",
       "      <th>0</th>\n",
       "      <td>lets forget apple pay required brand new iphon...</td>\n",
       "      <td>1</td>\n",
       "      <td>[let, us, forget, apple, pay, required, brand,...</td>\n",
       "    </tr>\n",
       "    <tr>\n",
       "      <th>1</th>\n",
       "      <td>nz retailers don’t even contactless credit car...</td>\n",
       "      <td>0</td>\n",
       "      <td>[nz, retailers, do, not, even, contactless, cr...</td>\n",
       "    </tr>\n",
       "    <tr>\n",
       "      <th>2</th>\n",
       "      <td>forever acknowledge channel help lessons ideas...</td>\n",
       "      <td>2</td>\n",
       "      <td>[forever, acknowledge, channel, help, lessons,...</td>\n",
       "    </tr>\n",
       "    <tr>\n",
       "      <th>3</th>\n",
       "      <td>whenever go place doesn’t take apple pay doesn...</td>\n",
       "      <td>0</td>\n",
       "      <td>[whenever, go, place, does, not, take, apple, ...</td>\n",
       "    </tr>\n",
       "    <tr>\n",
       "      <th>4</th>\n",
       "      <td>apple pay convenient secure easy use used kore...</td>\n",
       "      <td>2</td>\n",
       "      <td>[apple, pay, convenient, secure, easy, use, us...</td>\n",
       "    </tr>\n",
       "  </tbody>\n",
       "</table>\n",
       "</div>"
      ],
      "text/plain": [
       "                                             Comment  Sentiment  \\\n",
       "0  lets forget apple pay required brand new iphon...          1   \n",
       "1  nz retailers don’t even contactless credit car...          0   \n",
       "2  forever acknowledge channel help lessons ideas...          2   \n",
       "3  whenever go place doesn’t take apple pay doesn...          0   \n",
       "4  apple pay convenient secure easy use used kore...          2   \n",
       "\n",
       "                                              Tokens  \n",
       "0  [let, us, forget, apple, pay, required, brand,...  \n",
       "1  [nz, retailers, do, not, even, contactless, cr...  \n",
       "2  [forever, acknowledge, channel, help, lessons,...  \n",
       "3  [whenever, go, place, does, not, take, apple, ...  \n",
       "4  [apple, pay, convenient, secure, easy, use, us...  "
      ]
     },
     "execution_count": 5,
     "metadata": {},
     "output_type": "execute_result"
    }
   ],
   "source": [
    "twtk = TweetTokenizer()\n",
    "\n",
    "def make_token(sen):\n",
    "    sen = contractions.fix(sen)\n",
    "    return twtk.tokenize(sen)\n",
    "\n",
    "df['Tokens'] = [make_token(sentence) for sentence in tqdm(df['Comment'])]\n",
    "df.head()"
   ]
  },
  {
   "cell_type": "markdown",
   "id": "374d9b48-f5bf-4308-81d3-1ca057809ce6",
   "metadata": {},
   "source": [
    "### Creating Token Vocabulary and Mapping to Vectors:"
   ]
  },
  {
   "cell_type": "code",
   "execution_count": 6,
   "id": "969f437b-f1a2-4b25-92ec-dd73ab101755",
   "metadata": {},
   "outputs": [
    {
     "name": "stderr",
     "output_type": "stream",
     "text": [
      "100%|████████████████████████████| 240928/240928 [00:03<00:00, 67447.68it/s]\n",
      "62681it [00:00, 3074243.66it/s]\n",
      "100%|█████████████████████████████| 62681/62681 [00:00<00:00, 750549.33it/s]\n"
     ]
    }
   ],
   "source": [
    "#making dictionaries so that each word maps to it's vector\n",
    "\n",
    "def make_token_vocab(sequences):\n",
    "    token_vocab = set()  \n",
    "    for seq in tqdm(sequences):\n",
    "        for token in seq:\n",
    "            if token in token_vocab:\n",
    "                continue\n",
    "            if token not in glove_model:\n",
    "                continue\n",
    "            token_vocab.add(token)\n",
    "    return list(token_vocab)  \n",
    "   \n",
    "def make_token_indexes():\n",
    "    indexes = []\n",
    "    for index, token in tqdm(enumerate(token_vocab)):\n",
    "        indexes.append(index + 1)\n",
    "    return indexes\n",
    "\n",
    "def make_vector_vocab():\n",
    "    vector_vocab = []  \n",
    "    for token in tqdm(token_vocab):\n",
    "        vector_vocab.append(glove_model[token])\n",
    "    return vector_vocab\n",
    "\n",
    "token_vocab = make_token_vocab(df['Tokens'])\n",
    "token_indexes = make_token_indexes()\n",
    "vector_vocab = make_vector_vocab()"
   ]
  },
  {
   "cell_type": "markdown",
   "id": "f405d5f1-1738-4ff4-90ac-25d9bc3d55a4",
   "metadata": {},
   "source": [
    "### Padding:"
   ]
  },
  {
   "cell_type": "markdown",
   "id": "bef6b2ae-95e3-4f43-973d-f8fd612ac41b",
   "metadata": {},
   "source": [
    "A special <PAD> token is added at index 0 with a vector of zeros. This token is used to fill sequences that are shorter than the maximum length, ensuring all input sequences have the same size. Finally, two dictionaries are created: one mapping tokens to indices (token_index_dict) and one mapping tokens to vectors "
   ]
  },
  {
   "cell_type": "code",
   "execution_count": 7,
   "id": "c90f5ecc-4e66-4cf5-bb84-c49340545e93",
   "metadata": {},
   "outputs": [],
   "source": [
    "padding_token = '<PAD>'\n",
    "padding_index = 0\n",
    "padding_vector = np.zeros_like(vector_vocab[0])\n",
    "\n",
    "token_vocab = [padding_token] + token_vocab\n",
    "token_indexes = [padding_index] + token_indexes\n",
    "vector_vocab = [padding_vector] + vector_vocab\n",
    "\n",
    "token_index_dict = dict(zip(token_vocab, token_indexes))\n",
    "token_vector_dict = dict(zip(token_vocab, vector_vocab))"
   ]
  },
  {
   "cell_type": "code",
   "execution_count": 8,
   "id": "e74af96f-83c9-49bb-bdb8-3c6df929282f",
   "metadata": {},
   "outputs": [],
   "source": [
    "#truncating message lengths\n",
    "\n",
    "max_length = 100\n",
    "\n",
    "df['Length'] = [len(tokens) for tokens in df['Tokens']]\n",
    "df = df[df['Length'] < max_length]"
   ]
  },
  {
   "cell_type": "markdown",
   "id": "83976a4d-b8e5-4629-a6ba-cc2a5942f7b6",
   "metadata": {},
   "source": [
    "### Making Matrices:"
   ]
  },
  {
   "cell_type": "markdown",
   "id": "32dd1c2f-1328-49aa-aed7-7faf9778b088",
   "metadata": {},
   "source": [
    "I'm converting each token in a message to its corresponding index using the token–index dictionary. Sequences are then padded or truncated to a fixed max_length so that all inputs have the same size. This is becaise neural networks require inputs of the same length for batch processing. Finally, the token vectors are stored in embedding_matrix and the sequences of indices are stored in indices_matrix, ready to feed into the model."
   ]
  },
  {
   "cell_type": "code",
   "execution_count": 9,
   "id": "00cf8d80-0b42-42f1-a367-4fb86fbade63",
   "metadata": {},
   "outputs": [
    {
     "name": "stderr",
     "output_type": "stream",
     "text": [
      "100%|███████████████████████████| 240680/240680 [00:02<00:00, 100998.84it/s]\n"
     ]
    },
    {
     "data": {
      "text/html": [
       "<div>\n",
       "<style scoped>\n",
       "    .dataframe tbody tr th:only-of-type {\n",
       "        vertical-align: middle;\n",
       "    }\n",
       "\n",
       "    .dataframe tbody tr th {\n",
       "        vertical-align: top;\n",
       "    }\n",
       "\n",
       "    .dataframe thead th {\n",
       "        text-align: right;\n",
       "    }\n",
       "</style>\n",
       "<table border=\"1\" class=\"dataframe\">\n",
       "  <thead>\n",
       "    <tr style=\"text-align: right;\">\n",
       "      <th></th>\n",
       "      <th>Comment</th>\n",
       "      <th>Sentiment</th>\n",
       "      <th>Tokens</th>\n",
       "      <th>Length</th>\n",
       "      <th>Indices</th>\n",
       "    </tr>\n",
       "  </thead>\n",
       "  <tbody>\n",
       "    <tr>\n",
       "      <th>0</th>\n",
       "      <td>lets forget apple pay required brand new iphon...</td>\n",
       "      <td>1</td>\n",
       "      <td>[let, us, forget, apple, pay, required, brand,...</td>\n",
       "      <td>35</td>\n",
       "      <td>[22606, 45629, 58837, 32360, 11778, 4642, 3764...</td>\n",
       "    </tr>\n",
       "    <tr>\n",
       "      <th>1</th>\n",
       "      <td>nz retailers don’t even contactless credit car...</td>\n",
       "      <td>0</td>\n",
       "      <td>[nz, retailers, do, not, even, contactless, cr...</td>\n",
       "      <td>20</td>\n",
       "      <td>[40667, 4392, 51462, 62303, 45125, 17066, 6142...</td>\n",
       "    </tr>\n",
       "    <tr>\n",
       "      <th>2</th>\n",
       "      <td>forever acknowledge channel help lessons ideas...</td>\n",
       "      <td>2</td>\n",
       "      <td>[forever, acknowledge, channel, help, lessons,...</td>\n",
       "      <td>16</td>\n",
       "      <td>[19820, 32467, 22247, 6755, 40429, 33347, 1575...</td>\n",
       "    </tr>\n",
       "    <tr>\n",
       "      <th>3</th>\n",
       "      <td>whenever go place doesn’t take apple pay doesn...</td>\n",
       "      <td>0</td>\n",
       "      <td>[whenever, go, place, does, not, take, apple, ...</td>\n",
       "      <td>58</td>\n",
       "      <td>[56334, 59395, 26936, 19995, 62303, 25191, 323...</td>\n",
       "    </tr>\n",
       "    <tr>\n",
       "      <th>4</th>\n",
       "      <td>apple pay convenient secure easy use used kore...</td>\n",
       "      <td>2</td>\n",
       "      <td>[apple, pay, convenient, secure, easy, use, us...</td>\n",
       "      <td>14</td>\n",
       "      <td>[32360, 11778, 9878, 46005, 46707, 1119, 36668...</td>\n",
       "    </tr>\n",
       "  </tbody>\n",
       "</table>\n",
       "</div>"
      ],
      "text/plain": [
       "                                             Comment  Sentiment  \\\n",
       "0  lets forget apple pay required brand new iphon...          1   \n",
       "1  nz retailers don’t even contactless credit car...          0   \n",
       "2  forever acknowledge channel help lessons ideas...          2   \n",
       "3  whenever go place doesn’t take apple pay doesn...          0   \n",
       "4  apple pay convenient secure easy use used kore...          2   \n",
       "\n",
       "                                              Tokens  Length  \\\n",
       "0  [let, us, forget, apple, pay, required, brand,...      35   \n",
       "1  [nz, retailers, do, not, even, contactless, cr...      20   \n",
       "2  [forever, acknowledge, channel, help, lessons,...      16   \n",
       "3  [whenever, go, place, does, not, take, apple, ...      58   \n",
       "4  [apple, pay, convenient, secure, easy, use, us...      14   \n",
       "\n",
       "                                             Indices  \n",
       "0  [22606, 45629, 58837, 32360, 11778, 4642, 3764...  \n",
       "1  [40667, 4392, 51462, 62303, 45125, 17066, 6142...  \n",
       "2  [19820, 32467, 22247, 6755, 40429, 33347, 1575...  \n",
       "3  [56334, 59395, 26936, 19995, 62303, 25191, 323...  \n",
       "4  [32360, 11778, 9878, 46005, 46707, 1119, 36668...  "
      ]
     },
     "execution_count": 9,
     "metadata": {},
     "output_type": "execute_result"
    }
   ],
   "source": [
    "def make_indices(seq):\n",
    "    sequence = []\n",
    "    for token in seq:\n",
    "        if token not in glove_model:\n",
    "            continue\n",
    "        else:\n",
    "            token = token_index_dict[token]\n",
    "            sequence.append(token)\n",
    "    return sequence\n",
    "\n",
    "df['Indices'] = [make_indices(seq) for seq in tqdm(df['Tokens'])] \n",
    "\n",
    "def pad_sequence(seq):\n",
    "    if len(seq) > max_length:\n",
    "        seq = seq[:max_length]\n",
    "    elif len(seq) < max_length:\n",
    "        seq = seq + ([0] * (max_length - len(seq)))\n",
    "    return seq\n",
    "    \n",
    "df['Indices'] = [pad_sequence(seq) for seq in df['Indices']]\n",
    "\n",
    "embedding_matrix = np.array(vector_vocab)\n",
    "indices_matrix = np.array(df['Indices'].tolist())\n",
    "df.head()"
   ]
  },
  {
   "cell_type": "code",
   "execution_count": 10,
   "id": "b5493ee5-0c6f-4143-9710-648d7efbabca",
   "metadata": {},
   "outputs": [
    {
     "name": "stdout",
     "output_type": "stream",
     "text": [
      "(62682, 200)\n",
      "(240680, 100)\n"
     ]
    }
   ],
   "source": [
    "print(embedding_matrix.shape)\n",
    "print(indices_matrix.shape)"
   ]
  },
  {
   "cell_type": "markdown",
   "id": "a21caa32-94a3-48de-a323-508785bc202c",
   "metadata": {},
   "source": [
    "## Splitting Data:"
   ]
  },
  {
   "cell_type": "code",
   "execution_count": 11,
   "id": "080e2ac1-2a32-49f3-b18a-7f77332ee2b3",
   "metadata": {
    "collapsed": true,
    "jupyter": {
     "outputs_hidden": true
    }
   },
   "outputs": [
    {
     "name": "stderr",
     "output_type": "stream",
     "text": [
      "I0000 00:00:1757790965.919893    2433 gpu_device.cc:2019] Created device /job:localhost/replica:0/task:0/device:GPU:0 with 1765 MB memory:  -> device: 0, name: NVIDIA GeForce RTX 3050 Laptop GPU, pci bus id: 0000:01:00.0, compute capability: 8.6\n"
     ]
    }
   ],
   "source": [
    "split_index = int(0.8 * indices_matrix.shape[0])\n",
    "\n",
    "X_train = indices_matrix[ : split_index]\n",
    "y_train = df['Sentiment'].values[ : split_index]\n",
    "y_train = tf.cast(y_train, tf.int32)\n",
    "\n",
    "X_test = indices_matrix[split_index : ]\n",
    "y_test = df['Sentiment'].values[split_index : ]\n",
    "y_test = tf.cast(y_test, tf.int32)"
   ]
  },
  {
   "cell_type": "code",
   "execution_count": 12,
   "id": "4ae72614-3256-437b-aee4-0c567b113ccb",
   "metadata": {},
   "outputs": [
    {
     "name": "stdout",
     "output_type": "stream",
     "text": [
      "<class 'numpy.ndarray'> 192544\n",
      "<class 'tensorflow.python.framework.ops.EagerTensor'> 192544\n"
     ]
    }
   ],
   "source": [
    "print(type(X_train), len(X_train))\n",
    "print(type(y_train), len(y_train))"
   ]
  },
  {
   "cell_type": "markdown",
   "id": "c0ea4cc1-da7f-4138-8c69-3a0728d94e56",
   "metadata": {},
   "source": [
    "## Making Model & Training:"
   ]
  },
  {
   "cell_type": "markdown",
   "id": "22549b6c-8d35-4ab6-8140-04b752feb175",
   "metadata": {},
   "source": [
    "I chose an LSTM model because it provides an extra layer of context. Unlike standard neural networks, LSTMs can remember information from previous words in a sequence, which helps capture the sentiment of a sentence more accurately. For example, word order is especially important in the phrase ‘I am happy’. Switching the order to ‘Am I happy?’ changes the sentiment entirely."
   ]
  },
  {
   "cell_type": "code",
   "execution_count": 13,
   "id": "f7724622-1728-43c4-a567-f92dc789eb36",
   "metadata": {},
   "outputs": [
    {
     "data": {
      "text/html": [
       "<pre style=\"white-space:pre;overflow-x:auto;line-height:normal;font-family:Menlo,'DejaVu Sans Mono',consolas,'Courier New',monospace\"><span style=\"font-weight: bold\">Model: \"sequential\"</span>\n",
       "</pre>\n"
      ],
      "text/plain": [
       "\u001b[1mModel: \"sequential\"\u001b[0m\n"
      ]
     },
     "metadata": {},
     "output_type": "display_data"
    },
    {
     "data": {
      "text/html": [
       "<pre style=\"white-space:pre;overflow-x:auto;line-height:normal;font-family:Menlo,'DejaVu Sans Mono',consolas,'Courier New',monospace\">┏━━━━━━━━━━━━━━━━━━━━━━━━━━━━━━━━━┳━━━━━━━━━━━━━━━━━━━━━━━━┳━━━━━━━━━━━━━━━┓\n",
       "┃<span style=\"font-weight: bold\"> Layer (type)                    </span>┃<span style=\"font-weight: bold\"> Output Shape           </span>┃<span style=\"font-weight: bold\">       Param # </span>┃\n",
       "┡━━━━━━━━━━━━━━━━━━━━━━━━━━━━━━━━━╇━━━━━━━━━━━━━━━━━━━━━━━━╇━━━━━━━━━━━━━━━┩\n",
       "│ embedding (<span style=\"color: #0087ff; text-decoration-color: #0087ff\">Embedding</span>)           │ ?                      │    <span style=\"color: #00af00; text-decoration-color: #00af00\">12,536,400</span> │\n",
       "├─────────────────────────────────┼────────────────────────┼───────────────┤\n",
       "│ lstm (<span style=\"color: #0087ff; text-decoration-color: #0087ff\">LSTM</span>)                     │ ?                      │   <span style=\"color: #00af00; text-decoration-color: #00af00\">0</span> (unbuilt) │\n",
       "├─────────────────────────────────┼────────────────────────┼───────────────┤\n",
       "│ dropout (<span style=\"color: #0087ff; text-decoration-color: #0087ff\">Dropout</span>)               │ ?                      │             <span style=\"color: #00af00; text-decoration-color: #00af00\">0</span> │\n",
       "├─────────────────────────────────┼────────────────────────┼───────────────┤\n",
       "│ dense (<span style=\"color: #0087ff; text-decoration-color: #0087ff\">Dense</span>)                   │ ?                      │   <span style=\"color: #00af00; text-decoration-color: #00af00\">0</span> (unbuilt) │\n",
       "└─────────────────────────────────┴────────────────────────┴───────────────┘\n",
       "</pre>\n"
      ],
      "text/plain": [
       "┏━━━━━━━━━━━━━━━━━━━━━━━━━━━━━━━━━┳━━━━━━━━━━━━━━━━━━━━━━━━┳━━━━━━━━━━━━━━━┓\n",
       "┃\u001b[1m \u001b[0m\u001b[1mLayer (type)                   \u001b[0m\u001b[1m \u001b[0m┃\u001b[1m \u001b[0m\u001b[1mOutput Shape          \u001b[0m\u001b[1m \u001b[0m┃\u001b[1m \u001b[0m\u001b[1m      Param #\u001b[0m\u001b[1m \u001b[0m┃\n",
       "┡━━━━━━━━━━━━━━━━━━━━━━━━━━━━━━━━━╇━━━━━━━━━━━━━━━━━━━━━━━━╇━━━━━━━━━━━━━━━┩\n",
       "│ embedding (\u001b[38;5;33mEmbedding\u001b[0m)           │ ?                      │    \u001b[38;5;34m12,536,400\u001b[0m │\n",
       "├─────────────────────────────────┼────────────────────────┼───────────────┤\n",
       "│ lstm (\u001b[38;5;33mLSTM\u001b[0m)                     │ ?                      │   \u001b[38;5;34m0\u001b[0m (unbuilt) │\n",
       "├─────────────────────────────────┼────────────────────────┼───────────────┤\n",
       "│ dropout (\u001b[38;5;33mDropout\u001b[0m)               │ ?                      │             \u001b[38;5;34m0\u001b[0m │\n",
       "├─────────────────────────────────┼────────────────────────┼───────────────┤\n",
       "│ dense (\u001b[38;5;33mDense\u001b[0m)                   │ ?                      │   \u001b[38;5;34m0\u001b[0m (unbuilt) │\n",
       "└─────────────────────────────────┴────────────────────────┴───────────────┘\n"
      ]
     },
     "metadata": {},
     "output_type": "display_data"
    },
    {
     "data": {
      "text/html": [
       "<pre style=\"white-space:pre;overflow-x:auto;line-height:normal;font-family:Menlo,'DejaVu Sans Mono',consolas,'Courier New',monospace\"><span style=\"font-weight: bold\"> Total params: </span><span style=\"color: #00af00; text-decoration-color: #00af00\">12,536,400</span> (47.82 MB)\n",
       "</pre>\n"
      ],
      "text/plain": [
       "\u001b[1m Total params: \u001b[0m\u001b[38;5;34m12,536,400\u001b[0m (47.82 MB)\n"
      ]
     },
     "metadata": {},
     "output_type": "display_data"
    },
    {
     "data": {
      "text/html": [
       "<pre style=\"white-space:pre;overflow-x:auto;line-height:normal;font-family:Menlo,'DejaVu Sans Mono',consolas,'Courier New',monospace\"><span style=\"font-weight: bold\"> Trainable params: </span><span style=\"color: #00af00; text-decoration-color: #00af00\">0</span> (0.00 B)\n",
       "</pre>\n"
      ],
      "text/plain": [
       "\u001b[1m Trainable params: \u001b[0m\u001b[38;5;34m0\u001b[0m (0.00 B)\n"
      ]
     },
     "metadata": {},
     "output_type": "display_data"
    },
    {
     "data": {
      "text/html": [
       "<pre style=\"white-space:pre;overflow-x:auto;line-height:normal;font-family:Menlo,'DejaVu Sans Mono',consolas,'Courier New',monospace\"><span style=\"font-weight: bold\"> Non-trainable params: </span><span style=\"color: #00af00; text-decoration-color: #00af00\">12,536,400</span> (47.82 MB)\n",
       "</pre>\n"
      ],
      "text/plain": [
       "\u001b[1m Non-trainable params: \u001b[0m\u001b[38;5;34m12,536,400\u001b[0m (47.82 MB)\n"
      ]
     },
     "metadata": {},
     "output_type": "display_data"
    },
    {
     "name": "stdout",
     "output_type": "stream",
     "text": [
      "None\n"
     ]
    }
   ],
   "source": [
    "def make_model():\n",
    "    model = keras.Sequential()\n",
    "    model.add(layers.Embedding(\n",
    "        input_dim = len(token_vocab),\n",
    "        output_dim = 200,\n",
    "        weights = [embedding_matrix],  \n",
    "        trainable = False,             \n",
    "        mask_zero = True\n",
    "    ))\n",
    "    model.add(layers.LSTM(128, kernel_regularizer=regularizers.l2(0.0001), use_cudnn=False))\n",
    "    model.add(layers.Dropout(0.5))\n",
    "    model.add(layers.Dense(3, activation = 'softmax'))\n",
    "\n",
    "    return model\n",
    "\n",
    "model = make_model()\n",
    "\n",
    "model.compile(\n",
    "    optimizer = keras.optimizers.Adam(learning_rate=0.0001),\n",
    "    loss = 'sparse_categorical_crossentropy',\n",
    "    metrics = ['accuracy']\n",
    ")\n",
    "\n",
    "print(model.summary())"
   ]
  },
  {
   "cell_type": "code",
   "execution_count": 14,
   "id": "02394f9b-f9c0-483c-9f37-5ff7a63acab9",
   "metadata": {},
   "outputs": [
    {
     "name": "stdout",
     "output_type": "stream",
     "text": [
      "Epoch 1/20\n"
     ]
    },
    {
     "name": "stderr",
     "output_type": "stream",
     "text": [
      "WARNING: All log messages before absl::InitializeLog() is called are written to STDERR\n",
      "I0000 00:00:1757790970.579375    2527 service.cc:152] XLA service 0x79d618268740 initialized for platform CUDA (this does not guarantee that XLA will be used). Devices:\n",
      "I0000 00:00:1757790970.579418    2527 service.cc:160]   StreamExecutor device (0): NVIDIA GeForce RTX 3050 Laptop GPU, Compute Capability 8.6\n",
      "I0000 00:00:1757790971.064384    2527 cuda_dnn.cc:529] Loaded cuDNN version 91002\n",
      "I0000 00:00:1757790976.817537    2527 device_compiler.h:188] Compiled cluster using XLA!  This line is logged at most once for the lifetime of the process.\n"
     ]
    },
    {
     "name": "stdout",
     "output_type": "stream",
     "text": [
      "\u001b[1m1505/1505\u001b[0m \u001b[32m━━━━━━━━━━━━━━━━━━━━\u001b[0m\u001b[37m\u001b[0m \u001b[1m121s\u001b[0m 75ms/step - accuracy: 0.6044 - loss: 0.8973 - val_accuracy: 0.6413 - val_loss: 0.8337\n",
      "Epoch 2/20\n",
      "\u001b[1m1505/1505\u001b[0m \u001b[32m━━━━━━━━━━━━━━━━━━━━\u001b[0m\u001b[37m\u001b[0m \u001b[1m129s\u001b[0m 85ms/step - accuracy: 0.6622 - loss: 0.8026 - val_accuracy: 0.6663 - val_loss: 0.7866\n",
      "Epoch 3/20\n",
      "\u001b[1m1505/1505\u001b[0m \u001b[32m━━━━━━━━━━━━━━━━━━━━\u001b[0m\u001b[37m\u001b[0m \u001b[1m142s\u001b[0m 95ms/step - accuracy: 0.6820 - loss: 0.7646 - val_accuracy: 0.6912 - val_loss: 0.7477\n",
      "Epoch 4/20\n",
      "\u001b[1m1505/1505\u001b[0m \u001b[32m━━━━━━━━━━━━━━━━━━━━\u001b[0m\u001b[37m\u001b[0m \u001b[1m111s\u001b[0m 74ms/step - accuracy: 0.6976 - loss: 0.7347 - val_accuracy: 0.7086 - val_loss: 0.7163\n",
      "Epoch 5/20\n",
      "\u001b[1m1505/1505\u001b[0m \u001b[32m━━━━━━━━━━━━━━━━━━━━\u001b[0m\u001b[37m\u001b[0m \u001b[1m76s\u001b[0m 51ms/step - accuracy: 0.7116 - loss: 0.7108 - val_accuracy: 0.7197 - val_loss: 0.6938\n",
      "Epoch 6/20\n",
      "\u001b[1m1505/1505\u001b[0m \u001b[32m━━━━━━━━━━━━━━━━━━━━\u001b[0m\u001b[37m\u001b[0m \u001b[1m130s\u001b[0m 86ms/step - accuracy: 0.7227 - loss: 0.6904 - val_accuracy: 0.7374 - val_loss: 0.6628\n",
      "Epoch 7/20\n",
      "\u001b[1m1505/1505\u001b[0m \u001b[32m━━━━━━━━━━━━━━━━━━━━\u001b[0m\u001b[37m\u001b[0m \u001b[1m129s\u001b[0m 86ms/step - accuracy: 0.7330 - loss: 0.6717 - val_accuracy: 0.7440 - val_loss: 0.6515\n",
      "Epoch 8/20\n",
      "\u001b[1m1505/1505\u001b[0m \u001b[32m━━━━━━━━━━━━━━━━━━━━\u001b[0m\u001b[37m\u001b[0m \u001b[1m130s\u001b[0m 86ms/step - accuracy: 0.7395 - loss: 0.6576 - val_accuracy: 0.7577 - val_loss: 0.6291\n",
      "Epoch 9/20\n",
      "\u001b[1m1505/1505\u001b[0m \u001b[32m━━━━━━━━━━━━━━━━━━━━\u001b[0m\u001b[37m\u001b[0m \u001b[1m128s\u001b[0m 85ms/step - accuracy: 0.7480 - loss: 0.6434 - val_accuracy: 0.7640 - val_loss: 0.6193\n",
      "Epoch 10/20\n",
      "\u001b[1m1505/1505\u001b[0m \u001b[32m━━━━━━━━━━━━━━━━━━━━\u001b[0m\u001b[37m\u001b[0m \u001b[1m132s\u001b[0m 87ms/step - accuracy: 0.7539 - loss: 0.6312 - val_accuracy: 0.7707 - val_loss: 0.6037\n",
      "Epoch 11/20\n",
      "\u001b[1m1505/1505\u001b[0m \u001b[32m━━━━━━━━━━━━━━━━━━━━\u001b[0m\u001b[37m\u001b[0m \u001b[1m132s\u001b[0m 88ms/step - accuracy: 0.7595 - loss: 0.6206 - val_accuracy: 0.7796 - val_loss: 0.5862\n",
      "Epoch 12/20\n",
      "\u001b[1m1505/1505\u001b[0m \u001b[32m━━━━━━━━━━━━━━━━━━━━\u001b[0m\u001b[37m\u001b[0m \u001b[1m373s\u001b[0m 248ms/step - accuracy: 0.7647 - loss: 0.6111 - val_accuracy: 0.7843 - val_loss: 0.5790\n",
      "Epoch 13/20\n",
      "\u001b[1m1505/1505\u001b[0m \u001b[32m━━━━━━━━━━━━━━━━━━━━\u001b[0m\u001b[37m\u001b[0m \u001b[1m95s\u001b[0m 63ms/step - accuracy: 0.7700 - loss: 0.6014 - val_accuracy: 0.7889 - val_loss: 0.5729\n",
      "Epoch 14/20\n",
      "\u001b[1m1505/1505\u001b[0m \u001b[32m━━━━━━━━━━━━━━━━━━━━\u001b[0m\u001b[37m\u001b[0m \u001b[1m129s\u001b[0m 85ms/step - accuracy: 0.7737 - loss: 0.5933 - val_accuracy: 0.7949 - val_loss: 0.5627\n",
      "Epoch 15/20\n",
      "\u001b[1m1505/1505\u001b[0m \u001b[32m━━━━━━━━━━━━━━━━━━━━\u001b[0m\u001b[37m\u001b[0m \u001b[1m889s\u001b[0m 591ms/step - accuracy: 0.7783 - loss: 0.5846 - val_accuracy: 0.7998 - val_loss: 0.5544\n",
      "Epoch 16/20\n",
      "\u001b[1m1505/1505\u001b[0m \u001b[32m━━━━━━━━━━━━━━━━━━━━\u001b[0m\u001b[37m\u001b[0m \u001b[1m95s\u001b[0m 63ms/step - accuracy: 0.7809 - loss: 0.5782 - val_accuracy: 0.7955 - val_loss: 0.5638\n",
      "Epoch 17/20\n",
      "\u001b[1m1505/1505\u001b[0m \u001b[32m━━━━━━━━━━━━━━━━━━━━\u001b[0m\u001b[37m\u001b[0m \u001b[1m127s\u001b[0m 84ms/step - accuracy: 0.7862 - loss: 0.5709 - val_accuracy: 0.8032 - val_loss: 0.5519\n",
      "Epoch 18/20\n",
      "\u001b[1m1505/1505\u001b[0m \u001b[32m━━━━━━━━━━━━━━━━━━━━\u001b[0m\u001b[37m\u001b[0m \u001b[1m129s\u001b[0m 85ms/step - accuracy: 0.7880 - loss: 0.5650 - val_accuracy: 0.8078 - val_loss: 0.5484\n",
      "Epoch 19/20\n",
      "\u001b[1m1505/1505\u001b[0m \u001b[32m━━━━━━━━━━━━━━━━━━━━\u001b[0m\u001b[37m\u001b[0m \u001b[1m132s\u001b[0m 88ms/step - accuracy: 0.7905 - loss: 0.5591 - val_accuracy: 0.8031 - val_loss: 0.5524\n",
      "Epoch 20/20\n",
      "\u001b[1m1505/1505\u001b[0m \u001b[32m━━━━━━━━━━━━━━━━━━━━\u001b[0m\u001b[37m\u001b[0m \u001b[1m132s\u001b[0m 88ms/step - accuracy: 0.7940 - loss: 0.5531 - val_accuracy: 0.8128 - val_loss: 0.5351\n"
     ]
    }
   ],
   "source": [
    "model_history = model.fit(\n",
    "    X_train, y_train,\n",
    "    batch_size = 128,\n",
    "    epochs = 20,\n",
    "    verbose = 1,\n",
    "    validation_data = (X_test, y_test),\n",
    ")"
   ]
  },
  {
   "cell_type": "code",
   "execution_count": 15,
   "id": "cefcc854-c42d-48ba-9e4e-9eef587f1a22",
   "metadata": {},
   "outputs": [
    {
     "data": {
      "image/png": "[encoded data removed]",
      "text/plain": [
       "<Figure size 640x480 with 1 Axes>"
      ]
     },
     "metadata": {},
     "output_type": "display_data"
    },
    {
     "data": {
      "image/png": "[encoded data removed]",
      "text/plain": [
       "<Figure size 640x480 with 1 Axes>"
      ]
     },
     "metadata": {},
     "output_type": "display_data"
    }
   ],
   "source": [
    "# plotting training accuracy & validation accuracy \n",
    "\n",
    "plt.plot(model_history.history['accuracy'])\n",
    "plt.plot(model_history.history['val_accuracy'])\n",
    "plt.title('Model accuracy')\n",
    "plt.ylabel('Accuracy')\n",
    "plt.xlabel('Epoch')\n",
    "plt.legend(['Train', 'Validation'], loc='upper left')\n",
    "plt.show()\n",
    "\n",
    "# plotting training loss & validation loss \n",
    "\n",
    "plt.plot(model_history.history['loss'])\n",
    "plt.plot(model_history.history['val_loss'])\n",
    "plt.title('Model loss')\n",
    "plt.ylabel('Loss')\n",
    "plt.xlabel('Epoch')\n",
    "plt.legend(['Train', 'Validation'], loc='upper left')\n",
    "plt.show()"
   ]
  },
  {
   "cell_type": "markdown",
   "id": "8868df8e-3c0b-43a6-8772-b8bb0e06a67d",
   "metadata": {},
   "source": [
    "## Adjusting Model & Training:"
   ]
  },
  {
   "cell_type": "markdown",
   "id": "c508593e-ddcd-4f40-a722-1b7912b61ae7",
   "metadata": {},
   "source": [
    "I wanted to see if allowing the model to fine-tune GloVe embeddings would better the accuracy. So, I made a new model where they were trainable. I also reduced the number of epochs (I was impatient)"
   ]
  },
  {
   "cell_type": "code",
   "execution_count": 16,
   "id": "ed0973d0-40e9-4299-a5f0-d976ca9b46c1",
   "metadata": {},
   "outputs": [
    {
     "data": {
      "text/html": [
       "<pre style=\"white-space:pre;overflow-x:auto;line-height:normal;font-family:Menlo,'DejaVu Sans Mono',consolas,'Courier New',monospace\"><span style=\"font-weight: bold\">Model: \"sequential_1\"</span>\n",
       "</pre>\n"
      ],
      "text/plain": [
       "\u001b[1mModel: \"sequential_1\"\u001b[0m\n"
      ]
     },
     "metadata": {},
     "output_type": "display_data"
    },
    {
     "data": {
      "text/html": [
       "<pre style=\"white-space:pre;overflow-x:auto;line-height:normal;font-family:Menlo,'DejaVu Sans Mono',consolas,'Courier New',monospace\">┏━━━━━━━━━━━━━━━━━━━━━━━━━━━━━━━━━┳━━━━━━━━━━━━━━━━━━━━━━━━┳━━━━━━━━━━━━━━━┓\n",
       "┃<span style=\"font-weight: bold\"> Layer (type)                    </span>┃<span style=\"font-weight: bold\"> Output Shape           </span>┃<span style=\"font-weight: bold\">       Param # </span>┃\n",
       "┡━━━━━━━━━━━━━━━━━━━━━━━━━━━━━━━━━╇━━━━━━━━━━━━━━━━━━━━━━━━╇━━━━━━━━━━━━━━━┩\n",
       "│ embedding_1 (<span style=\"color: #0087ff; text-decoration-color: #0087ff\">Embedding</span>)         │ ?                      │    <span style=\"color: #00af00; text-decoration-color: #00af00\">12,536,400</span> │\n",
       "├─────────────────────────────────┼────────────────────────┼───────────────┤\n",
       "│ lstm_1 (<span style=\"color: #0087ff; text-decoration-color: #0087ff\">LSTM</span>)                   │ ?                      │   <span style=\"color: #00af00; text-decoration-color: #00af00\">0</span> (unbuilt) │\n",
       "├─────────────────────────────────┼────────────────────────┼───────────────┤\n",
       "│ dropout_1 (<span style=\"color: #0087ff; text-decoration-color: #0087ff\">Dropout</span>)             │ ?                      │             <span style=\"color: #00af00; text-decoration-color: #00af00\">0</span> │\n",
       "├─────────────────────────────────┼────────────────────────┼───────────────┤\n",
       "│ dense_1 (<span style=\"color: #0087ff; text-decoration-color: #0087ff\">Dense</span>)                 │ ?                      │   <span style=\"color: #00af00; text-decoration-color: #00af00\">0</span> (unbuilt) │\n",
       "└─────────────────────────────────┴────────────────────────┴───────────────┘\n",
       "</pre>\n"
      ],
      "text/plain": [
       "┏━━━━━━━━━━━━━━━━━━━━━━━━━━━━━━━━━┳━━━━━━━━━━━━━━━━━━━━━━━━┳━━━━━━━━━━━━━━━┓\n",
       "┃\u001b[1m \u001b[0m\u001b[1mLayer (type)                   \u001b[0m\u001b[1m \u001b[0m┃\u001b[1m \u001b[0m\u001b[1mOutput Shape          \u001b[0m\u001b[1m \u001b[0m┃\u001b[1m \u001b[0m\u001b[1m      Param #\u001b[0m\u001b[1m \u001b[0m┃\n",
       "┡━━━━━━━━━━━━━━━━━━━━━━━━━━━━━━━━━╇━━━━━━━━━━━━━━━━━━━━━━━━╇━━━━━━━━━━━━━━━┩\n",
       "│ embedding_1 (\u001b[38;5;33mEmbedding\u001b[0m)         │ ?                      │    \u001b[38;5;34m12,536,400\u001b[0m │\n",
       "├─────────────────────────────────┼────────────────────────┼───────────────┤\n",
       "│ lstm_1 (\u001b[38;5;33mLSTM\u001b[0m)                   │ ?                      │   \u001b[38;5;34m0\u001b[0m (unbuilt) │\n",
       "├─────────────────────────────────┼────────────────────────┼───────────────┤\n",
       "│ dropout_1 (\u001b[38;5;33mDropout\u001b[0m)             │ ?                      │             \u001b[38;5;34m0\u001b[0m │\n",
       "├─────────────────────────────────┼────────────────────────┼───────────────┤\n",
       "│ dense_1 (\u001b[38;5;33mDense\u001b[0m)                 │ ?                      │   \u001b[38;5;34m0\u001b[0m (unbuilt) │\n",
       "└─────────────────────────────────┴────────────────────────┴───────────────┘\n"
      ]
     },
     "metadata": {},
     "output_type": "display_data"
    },
    {
     "data": {
      "text/html": [
       "<pre style=\"white-space:pre;overflow-x:auto;line-height:normal;font-family:Menlo,'DejaVu Sans Mono',consolas,'Courier New',monospace\"><span style=\"font-weight: bold\"> Total params: </span><span style=\"color: #00af00; text-decoration-color: #00af00\">12,536,400</span> (47.82 MB)\n",
       "</pre>\n"
      ],
      "text/plain": [
       "\u001b[1m Total params: \u001b[0m\u001b[38;5;34m12,536,400\u001b[0m (47.82 MB)\n"
      ]
     },
     "metadata": {},
     "output_type": "display_data"
    },
    {
     "data": {
      "text/html": [
       "<pre style=\"white-space:pre;overflow-x:auto;line-height:normal;font-family:Menlo,'DejaVu Sans Mono',consolas,'Courier New',monospace\"><span style=\"font-weight: bold\"> Trainable params: </span><span style=\"color: #00af00; text-decoration-color: #00af00\">12,536,400</span> (47.82 MB)\n",
       "</pre>\n"
      ],
      "text/plain": [
       "\u001b[1m Trainable params: \u001b[0m\u001b[38;5;34m12,536,400\u001b[0m (47.82 MB)\n"
      ]
     },
     "metadata": {},
     "output_type": "display_data"
    },
    {
     "data": {
      "text/html": [
       "<pre style=\"white-space:pre;overflow-x:auto;line-height:normal;font-family:Menlo,'DejaVu Sans Mono',consolas,'Courier New',monospace\"><span style=\"font-weight: bold\"> Non-trainable params: </span><span style=\"color: #00af00; text-decoration-color: #00af00\">0</span> (0.00 B)\n",
       "</pre>\n"
      ],
      "text/plain": [
       "\u001b[1m Non-trainable params: \u001b[0m\u001b[38;5;34m0\u001b[0m (0.00 B)\n"
      ]
     },
     "metadata": {},
     "output_type": "display_data"
    },
    {
     "name": "stdout",
     "output_type": "stream",
     "text": [
      "None\n"
     ]
    }
   ],
   "source": [
    "def make_model_1():\n",
    "    model = keras.Sequential()\n",
    "    model.add(layers.Embedding(\n",
    "        input_dim = len(token_vocab),\n",
    "        output_dim = 200,\n",
    "        weights = [embedding_matrix],  \n",
    "        trainable = True,             \n",
    "        mask_zero = True\n",
    "    ))\n",
    "    model.add(layers.LSTM(128, kernel_regularizer=regularizers.l2(0.0001), use_cudnn=False))\n",
    "    model.add(layers.Dropout(0.5))\n",
    "    model.add(layers.Dense(3, activation = 'softmax'))\n",
    "\n",
    "    return model\n",
    "\n",
    "model_1 = make_model_1()\n",
    "\n",
    "model_1.compile(\n",
    "    optimizer = keras.optimizers.Adam(learning_rate=0.0001),\n",
    "    loss = 'sparse_categorical_crossentropy',\n",
    "    metrics = ['accuracy']\n",
    ")\n",
    "\n",
    "print(model_1.summary())"
   ]
  },
  {
   "cell_type": "code",
   "execution_count": 17,
   "id": "b6229ad8-f840-4407-a1f3-fae8973ba3d3",
   "metadata": {},
   "outputs": [
    {
     "name": "stdout",
     "output_type": "stream",
     "text": [
      "Epoch 1/10\n",
      "\u001b[1m1505/1505\u001b[0m \u001b[32m━━━━━━━━━━━━━━━━━━━━\u001b[0m\u001b[37m\u001b[0m \u001b[1m161s\u001b[0m 104ms/step - accuracy: 0.6299 - loss: 0.8597 - val_accuracy: 0.7121 - val_loss: 0.7221\n",
      "Epoch 2/10\n",
      "\u001b[1m1505/1505\u001b[0m \u001b[32m━━━━━━━━━━━━━━━━━━━━\u001b[0m\u001b[37m\u001b[0m \u001b[1m150s\u001b[0m 100ms/step - accuracy: 0.7355 - loss: 0.6814 - val_accuracy: 0.7865 - val_loss: 0.5838\n",
      "Epoch 3/10\n",
      "\u001b[1m1505/1505\u001b[0m \u001b[32m━━━━━━━━━━━━━━━━━━━━\u001b[0m\u001b[37m\u001b[0m \u001b[1m152s\u001b[0m 101ms/step - accuracy: 0.7788 - loss: 0.5918 - val_accuracy: 0.8321 - val_loss: 0.4995\n",
      "Epoch 4/10\n",
      "\u001b[1m1505/1505\u001b[0m \u001b[32m━━━━━━━━━━━━━━━━━━━━\u001b[0m\u001b[37m\u001b[0m \u001b[1m155s\u001b[0m 103ms/step - accuracy: 0.8039 - loss: 0.5360 - val_accuracy: 0.8495 - val_loss: 0.4608\n",
      "Epoch 5/10\n",
      "\u001b[1m1505/1505\u001b[0m \u001b[32m━━━━━━━━━━━━━━━━━━━━\u001b[0m\u001b[37m\u001b[0m \u001b[1m153s\u001b[0m 101ms/step - accuracy: 0.8199 - loss: 0.4983 - val_accuracy: 0.8653 - val_loss: 0.4406\n",
      "Epoch 6/10\n",
      "\u001b[1m1505/1505\u001b[0m \u001b[32m━━━━━━━━━━━━━━━━━━━━\u001b[0m\u001b[37m\u001b[0m \u001b[1m154s\u001b[0m 102ms/step - accuracy: 0.8319 - loss: 0.4688 - val_accuracy: 0.8600 - val_loss: 0.4368\n",
      "Epoch 7/10\n",
      "\u001b[1m1505/1505\u001b[0m \u001b[32m━━━━━━━━━━━━━━━━━━━━\u001b[0m\u001b[37m\u001b[0m \u001b[1m156s\u001b[0m 103ms/step - accuracy: 0.8422 - loss: 0.4429 - val_accuracy: 0.8635 - val_loss: 0.4289\n",
      "Epoch 8/10\n",
      "\u001b[1m1505/1505\u001b[0m \u001b[32m━━━━━━━━━━━━━━━━━━━━\u001b[0m\u001b[37m\u001b[0m \u001b[1m152s\u001b[0m 101ms/step - accuracy: 0.8504 - loss: 0.4215 - val_accuracy: 0.8709 - val_loss: 0.4260\n",
      "Epoch 9/10\n",
      "\u001b[1m1505/1505\u001b[0m \u001b[32m━━━━━━━━━━━━━━━━━━━━\u001b[0m\u001b[37m\u001b[0m \u001b[1m202s\u001b[0m 134ms/step - accuracy: 0.8590 - loss: 0.4008 - val_accuracy: 0.8682 - val_loss: 0.4369\n",
      "Epoch 10/10\n",
      "\u001b[1m1505/1505\u001b[0m \u001b[32m━━━━━━━━━━━━━━━━━━━━\u001b[0m\u001b[37m\u001b[0m \u001b[1m164s\u001b[0m 109ms/step - accuracy: 0.8677 - loss: 0.3819 - val_accuracy: 0.8632 - val_loss: 0.4420\n"
     ]
    }
   ],
   "source": [
    "model_history_1 = model_1.fit(\n",
    "    X_train, y_train,\n",
    "    batch_size = 128,\n",
    "    epochs = 10,\n",
    "    verbose = 1,\n",
    "    validation_data = (X_test, y_test),\n",
    ")"
   ]
  },
  {
   "cell_type": "code",
   "execution_count": 18,
   "id": "0768b291-01d4-4379-bf4d-3455dedece17",
   "metadata": {},
   "outputs": [
    {
     "data": {
      "image/png": "[encoded data removed]",
      "text/plain": [
       "<Figure size 640x480 with 1 Axes>"
      ]
     },
     "metadata": {},
     "output_type": "display_data"
    },
    {
     "data": {
      "image/png": "[encoded data removed]",
      "text/plain": [
       "<Figure size 640x480 with 1 Axes>"
      ]
     },
     "metadata": {},
     "output_type": "display_data"
    }
   ],
   "source": [
    "# Plot training & validation accuracy values\n",
    "plt.plot(model_history_1.history['accuracy'])\n",
    "plt.plot(model_history_1.history['val_accuracy'])\n",
    "plt.title('Model accuracy')\n",
    "plt.ylabel('Accuracy')\n",
    "plt.xlabel('Epoch')\n",
    "plt.legend(['Train', 'Validation'], loc='upper left')\n",
    "plt.show()\n",
    "\n",
    "# Plot training & validation loss values\n",
    "plt.plot(model_history_1.history['loss'])\n",
    "plt.plot(model_history_1.history['val_loss'])\n",
    "plt.title('Model loss')\n",
    "plt.ylabel('Loss')\n",
    "plt.xlabel('Epoch')\n",
    "plt.legend(['Train', 'Validation'], loc='upper left')\n",
    "plt.show()"
   ]
  },
  {
   "cell_type": "markdown",
   "id": "64364a0c-b8c6-40a9-90ec-12926317dee6",
   "metadata": {},
   "source": [
    "Ultimately, the model does perform better! It went from an 81% validation accuracy to an 86% validation accuracy. However, there's minor overfitting towards the end of it's training."
   ]
  },
  {
   "cell_type": "code",
   "execution_count": null,
   "id": "e6b1cdad-f94c-4a4a-9558-101bf0de38ca",
   "metadata": {},
   "outputs": [],
   "source": []
  }
 ],
 "metadata": {
  "kernelspec": {
   "display_name": "Python 3 (ipykernel)",
   "language": "python",
   "name": "python3"
  },
  "language_info": {
   "codemirror_mode": {
    "name": "ipython",
    "version": 3
   },
   "file_extension": ".py",
   "mimetype": "text/x-python",
   "name": "python",
   "nbconvert_exporter": "python",
   "pygments_lexer": "ipython3",
   "version": "3.12.3"
  }
 },
 "nbformat": 4,
 "nbformat_minor": 5
}
